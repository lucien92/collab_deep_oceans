{
 "cells": [
  {
   "cell_type": "code",
   "execution_count": 1,
   "metadata": {},
   "outputs": [],
   "source": [
    "import pandas as pd\n",
    "import numpy as np\n",
    "import geoenrich\n",
    "from geoenrich import dataloader, enrichment, satellite, exports\n",
    "import pathlib"
   ]
  },
  {
   "cell_type": "code",
   "execution_count": 2,
   "metadata": {},
   "outputs": [],
   "source": [
    "df = pd.read_csv('../plankton_geoenrich_data/biodiv/plankton.csv')"
   ]
  },
  {
   "cell_type": "code",
   "execution_count": 3,
   "metadata": {},
   "outputs": [],
   "source": [
    "variables = [\n",
    "    'sst',\n",
    "    'salinity3d'\n",
    "    'oxygen', \n",
    "    'oxygen2', \n",
    "    'chlorophyll',\n",
    "    'phosphate',\n",
    "    # 'nitrate',\n",
    "    # 'carbon-dissolved-inorganic',\n",
    "]"
   ]
  },
  {
   "cell_type": "code",
   "execution_count": 4,
   "metadata": {},
   "outputs": [],
   "source": [
    "# output = exports.retrieve_data(\"plankton\", 3897, 'oxygen', shape = 'buffer')\n",
    "# values = exports.export_to_array(output)"
   ]
  },
  {
   "cell_type": "code",
   "execution_count": 6,
   "metadata": {},
   "outputs": [
    {
     "name": "stderr",
     "output_type": "stream",
     "text": [
      "  0%|          | 0/100 [00:00<?, ?it/s]\n"
     ]
    },
    {
     "ename": "ValueError",
     "evalue": "cannot convert float NaN to integer",
     "output_type": "error",
     "traceback": [
      "\u001b[0;31m---------------------------------------------------------------------------\u001b[0m",
      "\u001b[0;31mValueError\u001b[0m                                Traceback (most recent call last)",
      "\u001b[1;32m/usr/users/sdi-labworks-2023-2024/sdi-labworks-2023-2024_24/project/collab_deep_oceans/process_data.ipynb Cell 5\u001b[0m line \u001b[0;36m1\n\u001b[0;32m----> <a href='vscode-notebook-cell://ssh-remote%2Bchome.metz.supelec.fr/usr/users/sdi-labworks-2023-2024/sdi-labworks-2023-2024_24/project/collab_deep_oceans/process_data.ipynb#X13sdnNjb2RlLXJlbW90ZQ%3D%3D?line=0'>1</a>\u001b[0m exports\u001b[39m.\u001b[39;49mcollate_npy(ds_ref \u001b[39m=\u001b[39;49m \u001b[39m'\u001b[39;49m\u001b[39mplankton\u001b[39;49m\u001b[39m'\u001b[39;49m, data_path \u001b[39m=\u001b[39;49m \u001b[39m'\u001b[39;49m\u001b[39m./npy\u001b[39;49m\u001b[39m'\u001b[39;49m, \u001b[39mslice\u001b[39;49m \u001b[39m=\u001b[39;49m (\u001b[39m0\u001b[39;49m, \u001b[39m100\u001b[39;49m))\n",
      "File \u001b[0;32m~/project/deep-sdm-venv/lib/python3.8/site-packages/geoenrich/exports.py:727\u001b[0m, in \u001b[0;36mcollate_npy\u001b[0;34m(ds_ref, data_path, output_res, slice, dimension3)\u001b[0m\n\u001b[1;32m    724\u001b[0m params \u001b[39m=\u001b[39m en[\u001b[39m'\u001b[39m\u001b[39mparameters\u001b[39m\u001b[39m'\u001b[39m]\n\u001b[1;32m    725\u001b[0m var_id \u001b[39m=\u001b[39m params[\u001b[39m'\u001b[39m\u001b[39mvar_id\u001b[39m\u001b[39m'\u001b[39m]\n\u001b[0;32m--> 727\u001b[0m res \u001b[39m=\u001b[39m retrieve_data(ds_ref, occ_id, var_id, geo_buff\u001b[39m=\u001b[39;49mparams[\u001b[39m'\u001b[39;49m\u001b[39mgeo_buff\u001b[39;49m\u001b[39m'\u001b[39;49m],\n\u001b[1;32m    728\u001b[0m                     time_buff\u001b[39m=\u001b[39;49mparams[\u001b[39m'\u001b[39;49m\u001b[39mtime_buff\u001b[39;49m\u001b[39m'\u001b[39;49m],\n\u001b[1;32m    729\u001b[0m                     depth_request\u001b[39m=\u001b[39;49mparams[\u001b[39m'\u001b[39;49m\u001b[39mdepth_request\u001b[39;49m\u001b[39m'\u001b[39;49m],\n\u001b[1;32m    730\u001b[0m                     downsample\u001b[39m=\u001b[39;49mparams[\u001b[39m'\u001b[39;49m\u001b[39mdownsample\u001b[39;49m\u001b[39m'\u001b[39;49m],\n\u001b[1;32m    731\u001b[0m                     serialized\u001b[39m=\u001b[39;49mserial_dict[en[\u001b[39m'\u001b[39;49m\u001b[39mid\u001b[39;49m\u001b[39m'\u001b[39;49m]])\n\u001b[1;32m    733\u001b[0m \u001b[39m# Specify target length in case res is empty.\u001b[39;00m\n\u001b[1;32m    735\u001b[0m \u001b[39mif\u001b[39;00m var_id \u001b[39min\u001b[39;00m dimension3:\n",
      "File \u001b[0;32m~/project/deep-sdm-venv/lib/python3.8/site-packages/geoenrich/exports.py:115\u001b[0m, in \u001b[0;36mretrieve_data\u001b[0;34m(dataset_ref, occ_id, var_id, geo_buff, time_buff, depth_request, downsample, shape, serialized)\u001b[0m\n\u001b[1;32m    109\u001b[0m     dimdict, var \u001b[39m=\u001b[39m get_metadata(ds, var_source[\u001b[39m'\u001b[39m\u001b[39mvarname\u001b[39m\u001b[39m'\u001b[39m])\n\u001b[1;32m    113\u001b[0m unit \u001b[39m=\u001b[39m \u001b[39mgetattr\u001b[39m(ds\u001b[39m.\u001b[39mvariables[var_source[\u001b[39m'\u001b[39m\u001b[39mvarname\u001b[39m\u001b[39m'\u001b[39m]], \u001b[39m'\u001b[39m\u001b[39munits\u001b[39m\u001b[39m'\u001b[39m, \u001b[39m'\u001b[39m\u001b[39mUnspecified\u001b[39m\u001b[39m'\u001b[39m)\n\u001b[0;32m--> 115\u001b[0m data, coords \u001b[39m=\u001b[39m fetch_data(row, var_id, var_ind, ds, dimdict, var, downsample)\n\u001b[1;32m    117\u001b[0m \u001b[39mif\u001b[39;00m \u001b[39m'\u001b[39m\u001b[39mds\u001b[39m\u001b[39m'\u001b[39m \u001b[39mnot\u001b[39;00m \u001b[39min\u001b[39;00m serialized:\n\u001b[1;32m    118\u001b[0m     ds\u001b[39m.\u001b[39mclose()\n",
      "File \u001b[0;32m~/project/deep-sdm-venv/lib/python3.8/site-packages/geoenrich/exports.py:151\u001b[0m, in \u001b[0;36mfetch_data\u001b[0;34m(row, var_id, var_indices, ds, dimdict, var, downsample, indices)\u001b[0m\n\u001b[1;32m    149\u001b[0m \u001b[39mif\u001b[39;00m indices \u001b[39mis\u001b[39;00m \u001b[39mNone\u001b[39;00m:\n\u001b[1;32m    150\u001b[0m     ordered_indices_cols \u001b[39m=\u001b[39m [var_indices[p] \u001b[39mfor\u001b[39;00m p \u001b[39min\u001b[39;00m params]\n\u001b[0;32m--> 151\u001b[0m     ordered_indices \u001b[39m=\u001b[39m [{\u001b[39m'\u001b[39m\u001b[39mmin\u001b[39m\u001b[39m'\u001b[39m: \u001b[39mint\u001b[39m(row\u001b[39m.\u001b[39miloc[d[\u001b[39m'\u001b[39m\u001b[39mmin\u001b[39m\u001b[39m'\u001b[39m]]),\n\u001b[1;32m    152\u001b[0m                         \u001b[39m'\u001b[39m\u001b[39mmax\u001b[39m\u001b[39m'\u001b[39m: \u001b[39mint\u001b[39m(row\u001b[39m.\u001b[39miloc[d[\u001b[39m'\u001b[39m\u001b[39mmax\u001b[39m\u001b[39m'\u001b[39m]]),\n\u001b[1;32m    153\u001b[0m                         \u001b[39m'\u001b[39m\u001b[39mstep\u001b[39m\u001b[39m'\u001b[39m: \u001b[39m1\u001b[39m}\n\u001b[1;32m    154\u001b[0m                         \u001b[39mfor\u001b[39;00m d \u001b[39min\u001b[39;00m ordered_indices_cols]\n\u001b[1;32m    155\u001b[0m     indices \u001b[39m=\u001b[39m {params[i]:ordered_indices[i] \u001b[39mfor\u001b[39;00m i \u001b[39min\u001b[39;00m \u001b[39mrange\u001b[39m(\u001b[39mlen\u001b[39m(params))}\n\u001b[1;32m    156\u001b[0m \u001b[39melse\u001b[39;00m:\n",
      "File \u001b[0;32m~/project/deep-sdm-venv/lib/python3.8/site-packages/geoenrich/exports.py:151\u001b[0m, in \u001b[0;36m<listcomp>\u001b[0;34m(.0)\u001b[0m\n\u001b[1;32m    149\u001b[0m \u001b[39mif\u001b[39;00m indices \u001b[39mis\u001b[39;00m \u001b[39mNone\u001b[39;00m:\n\u001b[1;32m    150\u001b[0m     ordered_indices_cols \u001b[39m=\u001b[39m [var_indices[p] \u001b[39mfor\u001b[39;00m p \u001b[39min\u001b[39;00m params]\n\u001b[0;32m--> 151\u001b[0m     ordered_indices \u001b[39m=\u001b[39m [{\u001b[39m'\u001b[39m\u001b[39mmin\u001b[39m\u001b[39m'\u001b[39m: \u001b[39mint\u001b[39;49m(row\u001b[39m.\u001b[39;49miloc[d[\u001b[39m'\u001b[39;49m\u001b[39mmin\u001b[39;49m\u001b[39m'\u001b[39;49m]]),\n\u001b[1;32m    152\u001b[0m                         \u001b[39m'\u001b[39m\u001b[39mmax\u001b[39m\u001b[39m'\u001b[39m: \u001b[39mint\u001b[39m(row\u001b[39m.\u001b[39miloc[d[\u001b[39m'\u001b[39m\u001b[39mmax\u001b[39m\u001b[39m'\u001b[39m]]),\n\u001b[1;32m    153\u001b[0m                         \u001b[39m'\u001b[39m\u001b[39mstep\u001b[39m\u001b[39m'\u001b[39m: \u001b[39m1\u001b[39m}\n\u001b[1;32m    154\u001b[0m                         \u001b[39mfor\u001b[39;00m d \u001b[39min\u001b[39;00m ordered_indices_cols]\n\u001b[1;32m    155\u001b[0m     indices \u001b[39m=\u001b[39m {params[i]:ordered_indices[i] \u001b[39mfor\u001b[39;00m i \u001b[39min\u001b[39;00m \u001b[39mrange\u001b[39m(\u001b[39mlen\u001b[39m(params))}\n\u001b[1;32m    156\u001b[0m \u001b[39melse\u001b[39;00m:\n",
      "\u001b[0;31mValueError\u001b[0m: cannot convert float NaN to integer"
     ]
    }
   ],
   "source": [
    "exports.collate_npy(ds_ref = 'plankton', data_path = './npy', slice = (0, 100))"
   ]
  },
  {
   "cell_type": "code",
   "execution_count": 17,
   "metadata": {},
   "outputs": [],
   "source": [
    "# Path object : \n",
    "\n",
    "data_path = pathlib.Path('../plankton_geoenrich_data/biodiv/plankton.csv')"
   ]
  },
  {
   "cell_type": "code",
   "execution_count": 19,
   "metadata": {},
   "outputs": [
    {
     "ename": "TypeError",
     "evalue": "unsupported operand type(s) for +: 'PosixPath' and 'str'",
     "output_type": "error",
     "traceback": [
      "\u001b[0;31m---------------------------------------------------------------------------\u001b[0m",
      "\u001b[0;31mTypeError\u001b[0m                                 Traceback (most recent call last)",
      "\u001b[1;32m/usr/users/sdi-labworks-2023-2024/sdi-labworks-2023-2024_24/project/collab_deep_oceans/process_data.ipynb Cell 7\u001b[0m line \u001b[0;36m1\n\u001b[0;32m----> <a href='vscode-notebook-cell://ssh-remote%2Bchome.metz.supelec.fr/usr/users/sdi-labworks-2023-2024/sdi-labworks-2023-2024_24/project/collab_deep_oceans/process_data.ipynb#X15sdnNjb2RlLXJlbW90ZQ%3D%3D?line=0'>1</a>\u001b[0m data_path \u001b[39m+\u001b[39;49m \u001b[39m'\u001b[39;49m\u001b[39m/\u001b[39;49m\u001b[39m'\u001b[39;49m \u001b[39m+\u001b[39m \u001b[39m'\u001b[39m\u001b[39mplankton.csv\u001b[39m\u001b[39m'\u001b[39m\n",
      "\u001b[0;31mTypeError\u001b[0m: unsupported operand type(s) for +: 'PosixPath' and 'str'"
     ]
    }
   ],
   "source": [
    "data_path + '/' + 'plankton.csv'"
   ]
  }
 ],
 "metadata": {
  "kernelspec": {
   "display_name": "deep-sdm-venv",
   "language": "python",
   "name": "python3"
  },
  "language_info": {
   "codemirror_mode": {
    "name": "ipython",
    "version": 3
   },
   "file_extension": ".py",
   "mimetype": "text/x-python",
   "name": "python",
   "nbconvert_exporter": "python",
   "pygments_lexer": "ipython3",
   "version": "3.8.10"
  }
 },
 "nbformat": 4,
 "nbformat_minor": 2
}
