{
 "cells": [
  {
   "cell_type": "code",
   "execution_count": 1,
   "metadata": {},
   "outputs": [],
   "source": [
    "import pandas as pd\n",
    "import numpy as np\n",
    "import geoenrich\n",
    "from geoenrich import dataloader, enrichment, satellite, exports\n",
    "import pathlib\n",
    "\n",
    "pd.set_option('display.max_rows', 200)"
   ]
  },
  {
   "cell_type": "code",
   "execution_count": 2,
   "metadata": {},
   "outputs": [],
   "source": [
    "df = pd.read_csv('../plankton_geoenrich_data/biodiv/plankton_med.csv')"
   ]
  },
  {
   "cell_type": "code",
   "execution_count": 3,
   "metadata": {},
   "outputs": [],
   "source": [
    "variables = [\n",
    "    'sst',\n",
    "    'nh4_med',\n",
    "    'no3_med',\n",
    "    'po4_med',\n",
    "    'o2_med',\n",
    "    'chl_med',\n",
    "    'thetao_med',\n",
    "    'so_med',\n",
    "    ]"
   ]
  },
  {
   "cell_type": "code",
   "execution_count": 4,
   "metadata": {},
   "outputs": [
    {
     "data": {
      "text/plain": [
       "(62275, 96)"
      ]
     },
     "execution_count": 4,
     "metadata": {},
     "output_type": "execute_result"
    }
   ],
   "source": [
    "df.shape"
   ]
  },
  {
   "cell_type": "code",
   "execution_count": 3,
   "metadata": {},
   "outputs": [],
   "source": [
    "df = pd.read_csv('./plankton_data/planktons_med.csv')"
   ]
  },
  {
   "cell_type": "code",
   "execution_count": 7,
   "metadata": {},
   "outputs": [
    {
     "data": {
      "text/plain": [
       "Index(['index', 'taxon', 'lat', 'lon', 'value', 'unit', 'dataset', 'datetime'], dtype='object')"
      ]
     },
     "execution_count": 7,
     "metadata": {},
     "output_type": "execute_result"
    }
   ],
   "source": [
    "df.columns"
   ]
  },
  {
   "cell_type": "code",
   "execution_count": 11,
   "metadata": {},
   "outputs": [],
   "source": [
    "# Median of lon : \n",
    "\n",
    "df['lon'].median()\n",
    "# subset : train for lon <= median, test for lon > median\n",
    "df['subset'] = np.where(df['lon'] <= df['lon'].median(), 'train', 'test')\n",
    "\n",
    "df.to_csv('./plankton_data/planktons_med.csv', index=False)"
   ]
  },
  {
   "cell_type": "code",
   "execution_count": 5,
   "metadata": {},
   "outputs": [],
   "source": [
    "# output = exports.retrieve_data(\"plankton\", 3897, 'oxygen', shape = 'buffer')\n",
    "# values = exports.export_to_array(output)\n",
    "\n",
    "# exports.collate_npy(ds_ref = 'plankton_med', data_path = './npy', slice = (0, 10000))"
   ]
  },
  {
   "cell_type": "code",
   "execution_count": 11,
   "metadata": {},
   "outputs": [],
   "source": [
    "raster = np.load('./npy/plankton_med-npy/193.npy')"
   ]
  },
  {
   "cell_type": "code",
   "execution_count": 12,
   "metadata": {},
   "outputs": [
    {
     "data": {
      "text/plain": [
       "array([[         nan,          nan,          nan, ..., 297.44924927,\n",
       "        297.58990479, 297.63739014],\n",
       "       [         nan,          nan,          nan, ..., 297.29650879,\n",
       "        297.39498901, 297.40649414],\n",
       "       [         nan,          nan,          nan, ..., 297.19326782,\n",
       "        297.22668457, 297.18890381],\n",
       "       ...,\n",
       "       [         nan,          nan,          nan, ...,          nan,\n",
       "                 nan,          nan],\n",
       "       [         nan,          nan,          nan, ...,          nan,\n",
       "                 nan,          nan],\n",
       "       [         nan,          nan,          nan, ...,          nan,\n",
       "                 nan,          nan]])"
      ]
     },
     "execution_count": 12,
     "metadata": {},
     "output_type": "execute_result"
    }
   ],
   "source": [
    "raster[:,:,0]"
   ]
  },
  {
   "cell_type": "code",
   "execution_count": 13,
   "metadata": {},
   "outputs": [
    {
     "data": {
      "text/plain": [
       "array([[        nan,         nan,         nan, ..., 23.96222496,\n",
       "        24.19167137, 24.26071167],\n",
       "       [        nan,         nan,         nan, ..., 23.64068794,\n",
       "        23.89012718, 23.97191238],\n",
       "       [        nan,         nan,         nan, ..., 23.58297157,\n",
       "        23.71512794, 23.69724846],\n",
       "       ...,\n",
       "       [        nan,         nan,         nan, ...,         nan,\n",
       "                nan,         nan],\n",
       "       [        nan,         nan,         nan, ...,         nan,\n",
       "                nan,         nan],\n",
       "       [        nan,         nan,         nan, ...,         nan,\n",
       "                nan,         nan]])"
      ]
     },
     "execution_count": 13,
     "metadata": {},
     "output_type": "execute_result"
    }
   ],
   "source": [
    "raster[:,:,6]"
   ]
  },
  {
   "cell_type": "code",
   "execution_count": 3,
   "metadata": {},
   "outputs": [],
   "source": [
    "import numpy as np\n",
    "arr = np.load('/mounts/Datasets4/DeepOcean/npy-norm/gbif_10779164-norm-npy/1020055146.npy')"
   ]
  }
 ],
 "metadata": {
  "kernelspec": {
   "display_name": "deep-sdm-venv",
   "language": "python",
   "name": "python3"
  },
  "language_info": {
   "codemirror_mode": {
    "name": "ipython",
    "version": 3
   },
   "file_extension": ".py",
   "mimetype": "text/x-python",
   "name": "python",
   "nbconvert_exporter": "python",
   "pygments_lexer": "ipython3",
   "version": "3.8.10"
  }
 },
 "nbformat": 4,
 "nbformat_minor": 2
}
