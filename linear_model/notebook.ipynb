{
 "cells": [
  {
   "cell_type": "code",
   "execution_count": 1,
   "metadata": {},
   "outputs": [],
   "source": [
    "import pandas as pd\n",
    "import numpy as np\n",
    "import plotly.express as px\n",
    "import plotly.graph_objects as go"
   ]
  },
  {
   "cell_type": "markdown",
   "metadata": {},
   "source": [
    "## Get Data"
   ]
  },
  {
   "cell_type": "code",
   "execution_count": 6,
   "metadata": {},
   "outputs": [],
   "source": [
    "df = pd.read_csv('../plankton_data/planktons_med_filtered.csv', index_col='index')"
   ]
  },
  {
   "cell_type": "markdown",
   "metadata": {},
   "source": [
    "### Aggregating data"
   ]
  },
  {
   "cell_type": "code",
   "execution_count": 14,
   "metadata": {},
   "outputs": [],
   "source": [
    "for index in df.index:\n",
    "    npy = np.load(f'../npy/plankton_med-npy-norm/{index}.npy')\n",
    "    # print(npy.shape) == (32, 32, 8)\n",
    "    mean = np.mean(npy, axis=(0, 1))\n",
    "    center_mean = np.mean(npy[15:17, 15:17], axis=(0, 1))\n",
    "    features = np.concatenate([mean, center_mean])\n",
    "    for i in range(features.shape[0]):\n",
    "        df.loc[index, f'f{i}'] = features[i]\n",
    "    "
   ]
  },
  {
   "cell_type": "code",
   "execution_count": 17,
   "metadata": {},
   "outputs": [],
   "source": [
    "features = [f'f{i}' for i in range(16)]"
   ]
  },
  {
   "cell_type": "code",
   "execution_count": 38,
   "metadata": {},
   "outputs": [],
   "source": [
    "taxons = [\n",
    "    \"Dinophysis acuminata\",\n",
    "    \"Karenia mikimotoi\",\n",
    "    \"Chaetoceros\",\n",
    "    \"Dinophysis\", \n",
    "    \"Alexandrium minutum\",\n",
    "    \"Pseudo-nitzschia\"\n",
    "]"
   ]
  },
  {
   "cell_type": "code",
   "execution_count": 39,
   "metadata": {},
   "outputs": [
    {
     "data": {
      "text/html": [
       "<div>\n",
       "<style scoped>\n",
       "    .dataframe tbody tr th:only-of-type {\n",
       "        vertical-align: middle;\n",
       "    }\n",
       "\n",
       "    .dataframe tbody tr th {\n",
       "        vertical-align: top;\n",
       "    }\n",
       "\n",
       "    .dataframe thead th {\n",
       "        text-align: right;\n",
       "    }\n",
       "</style>\n",
       "<table border=\"1\" class=\"dataframe\">\n",
       "  <thead>\n",
       "    <tr style=\"text-align: right;\">\n",
       "      <th></th>\n",
       "      <th>Pseudo-nitzschia</th>\n",
       "      <th>f0</th>\n",
       "      <th>f1</th>\n",
       "      <th>f2</th>\n",
       "      <th>f3</th>\n",
       "      <th>f4</th>\n",
       "      <th>f5</th>\n",
       "      <th>f6</th>\n",
       "      <th>f7</th>\n",
       "      <th>f8</th>\n",
       "      <th>f9</th>\n",
       "      <th>f10</th>\n",
       "      <th>f11</th>\n",
       "      <th>f12</th>\n",
       "      <th>f13</th>\n",
       "      <th>f14</th>\n",
       "      <th>f15</th>\n",
       "    </tr>\n",
       "    <tr>\n",
       "      <th>index</th>\n",
       "      <th></th>\n",
       "      <th></th>\n",
       "      <th></th>\n",
       "      <th></th>\n",
       "      <th></th>\n",
       "      <th></th>\n",
       "      <th></th>\n",
       "      <th></th>\n",
       "      <th></th>\n",
       "      <th></th>\n",
       "      <th></th>\n",
       "      <th></th>\n",
       "      <th></th>\n",
       "      <th></th>\n",
       "      <th></th>\n",
       "      <th></th>\n",
       "      <th></th>\n",
       "    </tr>\n",
       "  </thead>\n",
       "  <tbody>\n",
       "    <tr>\n",
       "      <th>33008</th>\n",
       "      <td>0.0</td>\n",
       "      <td>0.097599</td>\n",
       "      <td>0.186053</td>\n",
       "      <td>0.153239</td>\n",
       "      <td>0.087633</td>\n",
       "      <td>0.467114</td>\n",
       "      <td>0.11845</td>\n",
       "      <td>0.110800</td>\n",
       "      <td>0.835807</td>\n",
       "      <td>0.114929</td>\n",
       "      <td>0.186053</td>\n",
       "      <td>0.153239</td>\n",
       "      <td>0.087633</td>\n",
       "      <td>0.467114</td>\n",
       "      <td>0.11845</td>\n",
       "      <td>0.106460</td>\n",
       "      <td>0.841798</td>\n",
       "    </tr>\n",
       "    <tr>\n",
       "      <th>30414</th>\n",
       "      <td>0.0</td>\n",
       "      <td>0.058595</td>\n",
       "      <td>0.186053</td>\n",
       "      <td>0.153239</td>\n",
       "      <td>0.087633</td>\n",
       "      <td>0.467114</td>\n",
       "      <td>0.11845</td>\n",
       "      <td>0.080034</td>\n",
       "      <td>0.851737</td>\n",
       "      <td>0.041533</td>\n",
       "      <td>0.186053</td>\n",
       "      <td>0.153239</td>\n",
       "      <td>0.087633</td>\n",
       "      <td>0.467114</td>\n",
       "      <td>0.11845</td>\n",
       "      <td>0.064796</td>\n",
       "      <td>0.831095</td>\n",
       "    </tr>\n",
       "    <tr>\n",
       "      <th>35172</th>\n",
       "      <td>0.0</td>\n",
       "      <td>0.108287</td>\n",
       "      <td>0.186053</td>\n",
       "      <td>0.153239</td>\n",
       "      <td>0.087633</td>\n",
       "      <td>0.467114</td>\n",
       "      <td>0.11845</td>\n",
       "      <td>0.117305</td>\n",
       "      <td>0.822590</td>\n",
       "      <td>0.110903</td>\n",
       "      <td>0.186053</td>\n",
       "      <td>0.153239</td>\n",
       "      <td>0.087633</td>\n",
       "      <td>0.467114</td>\n",
       "      <td>0.11845</td>\n",
       "      <td>0.107477</td>\n",
       "      <td>0.815026</td>\n",
       "    </tr>\n",
       "    <tr>\n",
       "      <th>36633</th>\n",
       "      <td>0.0</td>\n",
       "      <td>0.106580</td>\n",
       "      <td>0.186053</td>\n",
       "      <td>0.153239</td>\n",
       "      <td>0.087633</td>\n",
       "      <td>0.467114</td>\n",
       "      <td>0.11845</td>\n",
       "      <td>0.119321</td>\n",
       "      <td>0.813532</td>\n",
       "      <td>0.105801</td>\n",
       "      <td>0.186053</td>\n",
       "      <td>0.153239</td>\n",
       "      <td>0.087633</td>\n",
       "      <td>0.467114</td>\n",
       "      <td>0.11845</td>\n",
       "      <td>0.119617</td>\n",
       "      <td>0.777010</td>\n",
       "    </tr>\n",
       "    <tr>\n",
       "      <th>35174</th>\n",
       "      <td>0.0</td>\n",
       "      <td>0.103183</td>\n",
       "      <td>0.186053</td>\n",
       "      <td>0.153239</td>\n",
       "      <td>0.087633</td>\n",
       "      <td>0.467114</td>\n",
       "      <td>0.11845</td>\n",
       "      <td>0.113857</td>\n",
       "      <td>0.829036</td>\n",
       "      <td>0.113048</td>\n",
       "      <td>0.186053</td>\n",
       "      <td>0.153239</td>\n",
       "      <td>0.087633</td>\n",
       "      <td>0.467114</td>\n",
       "      <td>0.11845</td>\n",
       "      <td>0.107242</td>\n",
       "      <td>0.831360</td>\n",
       "    </tr>\n",
       "  </tbody>\n",
       "</table>\n",
       "</div>"
      ],
      "text/plain": [
       "       Pseudo-nitzschia        f0        f1        f2        f3        f4  \\\n",
       "index                                                                       \n",
       "33008               0.0  0.097599  0.186053  0.153239  0.087633  0.467114   \n",
       "30414               0.0  0.058595  0.186053  0.153239  0.087633  0.467114   \n",
       "35172               0.0  0.108287  0.186053  0.153239  0.087633  0.467114   \n",
       "36633               0.0  0.106580  0.186053  0.153239  0.087633  0.467114   \n",
       "35174               0.0  0.103183  0.186053  0.153239  0.087633  0.467114   \n",
       "\n",
       "            f5        f6        f7        f8        f9       f10       f11  \\\n",
       "index                                                                        \n",
       "33008  0.11845  0.110800  0.835807  0.114929  0.186053  0.153239  0.087633   \n",
       "30414  0.11845  0.080034  0.851737  0.041533  0.186053  0.153239  0.087633   \n",
       "35172  0.11845  0.117305  0.822590  0.110903  0.186053  0.153239  0.087633   \n",
       "36633  0.11845  0.119321  0.813532  0.105801  0.186053  0.153239  0.087633   \n",
       "35174  0.11845  0.113857  0.829036  0.113048  0.186053  0.153239  0.087633   \n",
       "\n",
       "            f12      f13       f14       f15  \n",
       "index                                         \n",
       "33008  0.467114  0.11845  0.106460  0.841798  \n",
       "30414  0.467114  0.11845  0.064796  0.831095  \n",
       "35172  0.467114  0.11845  0.107477  0.815026  \n",
       "36633  0.467114  0.11845  0.119617  0.777010  \n",
       "35174  0.467114  0.11845  0.107242  0.831360  "
      ]
     },
     "execution_count": 39,
     "metadata": {},
     "output_type": "execute_result"
    }
   ],
   "source": [
    "# Head of target and features : \n",
    "df[['Pseudo-nitzschia'] + features].head()"
   ]
  },
  {
   "cell_type": "markdown",
   "metadata": {},
   "source": [
    "### Splitting data"
   ]
  },
  {
   "cell_type": "code",
   "execution_count": 45,
   "metadata": {},
   "outputs": [],
   "source": [
    "# test, train split : \n",
    "from sklearn.model_selection import train_test_split\n",
    "\n",
    "X = df[features]\n",
    "y = df['Pseudo-nitzschia']\n",
    "\n",
    "X_train, X_test, y_train, y_test = train_test_split(X, y, test_size=0.2, random_state=42)"
   ]
  },
  {
   "cell_type": "markdown",
   "metadata": {},
   "source": [
    "## Linear model"
   ]
  },
  {
   "cell_type": "code",
   "execution_count": 46,
   "metadata": {},
   "outputs": [
    {
     "data": {
      "text/plain": [
       "0.014880306594328485"
      ]
     },
     "execution_count": 46,
     "metadata": {},
     "output_type": "execute_result"
    }
   ],
   "source": [
    "# Linear Regression :\n",
    "from sklearn.linear_model import LinearRegression\n",
    "from sklearn.metrics import mean_squared_error\n",
    "\n",
    "lr = LinearRegression()\n",
    "lr.fit(X_train, y_train)\n",
    "lr.score(X_test, y_test)"
   ]
  },
  {
   "cell_type": "code",
   "execution_count": 47,
   "metadata": {},
   "outputs": [],
   "source": [
    "def mle(y_true, y_pred):\n",
    "    abs_diff = np.abs(y_true - y_pred)\n",
    "    max_diff = np.maximum(1, abs_diff)\n",
    "    log_max_diff = np.log(max_diff)\n",
    "    return np.mean(log_max_diff)"
   ]
  },
  {
   "cell_type": "code",
   "execution_count": 48,
   "metadata": {},
   "outputs": [
    {
     "name": "stdout",
     "output_type": "stream",
     "text": [
      "62948941676.85719\n"
     ]
    }
   ],
   "source": [
    "# Print (mse) :\n",
    "\n",
    "y_pred = lr.predict(X_test)\n",
    "print(mean_squared_error(y_test, y_pred))"
   ]
  },
  {
   "cell_type": "code",
   "execution_count": 49,
   "metadata": {},
   "outputs": [
    {
     "name": "stdout",
     "output_type": "stream",
     "text": [
      "10.137739911012691\n"
     ]
    }
   ],
   "source": [
    "# Print (mle) :\n",
    "\n",
    "print(mle(y_test, y_pred))"
   ]
  },
  {
   "cell_type": "code",
   "execution_count": 50,
   "metadata": {},
   "outputs": [
    {
     "name": "stdout",
     "output_type": "stream",
     "text": [
      "prediction : 107332.84204941755, real : 29700.0\n",
      "prediction : 43152.70474918005, real : 0.0\n",
      "prediction : 22503.702243103253, real : 0.0\n",
      "prediction : 26608.858891433214, real : 0.0\n",
      "prediction : 15263.866066669361, real : 10500.0\n",
      "prediction : 44035.514039297705, real : 0.0\n",
      "prediction : 38698.306999302, real : 0.0\n",
      "prediction : -32725.51093679377, real : 0.0\n",
      "prediction : 24270.26930359722, real : 5000.0\n",
      "prediction : -37410.829246320485, real : 0.0\n"
     ]
    },
    {
     "name": "stderr",
     "output_type": "stream",
     "text": [
      "/usr/users/sdi-labworks-2023-2024/sdi-labworks-2023-2024_24/project/collab_deep_oceans/deep-sdm-venv/lib/python3.8/site-packages/sklearn/base.py:465: UserWarning: X does not have valid feature names, but LinearRegression was fitted with feature names\n",
      "  warnings.warn(\n",
      "/usr/users/sdi-labworks-2023-2024/sdi-labworks-2023-2024_24/project/collab_deep_oceans/deep-sdm-venv/lib/python3.8/site-packages/sklearn/base.py:465: UserWarning: X does not have valid feature names, but LinearRegression was fitted with feature names\n",
      "  warnings.warn(\n",
      "/usr/users/sdi-labworks-2023-2024/sdi-labworks-2023-2024_24/project/collab_deep_oceans/deep-sdm-venv/lib/python3.8/site-packages/sklearn/base.py:465: UserWarning: X does not have valid feature names, but LinearRegression was fitted with feature names\n",
      "  warnings.warn(\n",
      "/usr/users/sdi-labworks-2023-2024/sdi-labworks-2023-2024_24/project/collab_deep_oceans/deep-sdm-venv/lib/python3.8/site-packages/sklearn/base.py:465: UserWarning: X does not have valid feature names, but LinearRegression was fitted with feature names\n",
      "  warnings.warn(\n",
      "/usr/users/sdi-labworks-2023-2024/sdi-labworks-2023-2024_24/project/collab_deep_oceans/deep-sdm-venv/lib/python3.8/site-packages/sklearn/base.py:465: UserWarning: X does not have valid feature names, but LinearRegression was fitted with feature names\n",
      "  warnings.warn(\n",
      "/usr/users/sdi-labworks-2023-2024/sdi-labworks-2023-2024_24/project/collab_deep_oceans/deep-sdm-venv/lib/python3.8/site-packages/sklearn/base.py:465: UserWarning: X does not have valid feature names, but LinearRegression was fitted with feature names\n",
      "  warnings.warn(\n",
      "/usr/users/sdi-labworks-2023-2024/sdi-labworks-2023-2024_24/project/collab_deep_oceans/deep-sdm-venv/lib/python3.8/site-packages/sklearn/base.py:465: UserWarning: X does not have valid feature names, but LinearRegression was fitted with feature names\n",
      "  warnings.warn(\n",
      "/usr/users/sdi-labworks-2023-2024/sdi-labworks-2023-2024_24/project/collab_deep_oceans/deep-sdm-venv/lib/python3.8/site-packages/sklearn/base.py:465: UserWarning: X does not have valid feature names, but LinearRegression was fitted with feature names\n",
      "  warnings.warn(\n",
      "/usr/users/sdi-labworks-2023-2024/sdi-labworks-2023-2024_24/project/collab_deep_oceans/deep-sdm-venv/lib/python3.8/site-packages/sklearn/base.py:465: UserWarning: X does not have valid feature names, but LinearRegression was fitted with feature names\n",
      "  warnings.warn(\n",
      "/usr/users/sdi-labworks-2023-2024/sdi-labworks-2023-2024_24/project/collab_deep_oceans/deep-sdm-venv/lib/python3.8/site-packages/sklearn/base.py:465: UserWarning: X does not have valid feature names, but LinearRegression was fitted with feature names\n",
      "  warnings.warn(\n"
     ]
    }
   ],
   "source": [
    "# print some predictions :\n",
    "for i in range(10):\n",
    "    print(f'prediction : {lr.predict([X_test.iloc[i]])[0]}, real : {y_test.iloc[i]}')"
   ]
  },
  {
   "cell_type": "markdown",
   "metadata": {},
   "source": [
    "## Random forest :"
   ]
  },
  {
   "cell_type": "code",
   "execution_count": 32,
   "metadata": {},
   "outputs": [],
   "source": [
    "from sklearn.ensemble import RandomForestRegressor"
   ]
  },
  {
   "cell_type": "code",
   "execution_count": 51,
   "metadata": {},
   "outputs": [
    {
     "data": {
      "text/plain": [
       "-0.5623497937831046"
      ]
     },
     "execution_count": 51,
     "metadata": {},
     "output_type": "execute_result"
    }
   ],
   "source": [
    "rf = RandomForestRegressor(n_estimators=100, max_depth=10, random_state=42)\n",
    "rf.fit(X_train, y_train)\n",
    "rf.score(X_test, y_test)"
   ]
  },
  {
   "cell_type": "code",
   "execution_count": 52,
   "metadata": {},
   "outputs": [
    {
     "name": "stdout",
     "output_type": "stream",
     "text": [
      "99833823956.66185\n"
     ]
    }
   ],
   "source": [
    "# Print (mse) :\n",
    "\n",
    "y_pred = rf.predict(X_test)\n",
    "print(mean_squared_error(y_test, y_pred))"
   ]
  },
  {
   "cell_type": "code",
   "execution_count": 53,
   "metadata": {},
   "outputs": [
    {
     "name": "stdout",
     "output_type": "stream",
     "text": [
      "9.347150558766778\n"
     ]
    }
   ],
   "source": [
    "# Print (mle) :\n",
    "\n",
    "print(mle(y_test, y_pred))"
   ]
  }
 ],
 "metadata": {
  "kernelspec": {
   "display_name": "deep-sdm-venv",
   "language": "python",
   "name": "python3"
  },
  "language_info": {
   "codemirror_mode": {
    "name": "ipython",
    "version": 3
   },
   "file_extension": ".py",
   "mimetype": "text/x-python",
   "name": "python",
   "nbconvert_exporter": "python",
   "pygments_lexer": "ipython3",
   "version": "3.8.10"
  }
 },
 "nbformat": 4,
 "nbformat_minor": 2
}
